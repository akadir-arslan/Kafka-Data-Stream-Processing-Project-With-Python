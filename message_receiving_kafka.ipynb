{
 "cells": [
  {
   "cell_type": "markdown",
   "metadata": {},
   "source": [
    "# **Kafka Data Stream Processing with Python**\n",
    "## **Message Receiving**"
   ]
  },
  {
   "cell_type": "markdown",
   "metadata": {},
   "source": [
    "## The Used Packages"
   ]
  },
  {
   "cell_type": "code",
   "execution_count": 11,
   "metadata": {},
   "outputs": [],
   "source": [
    "from kafka import KafkaConsumer\n",
    "import json\n",
    "import time\n",
    "import threading"
   ]
  },
  {
   "cell_type": "markdown",
   "metadata": {},
   "source": [
    "## Receiving the Messages from the **topic** measurements periodically\n",
    "#### The code snippet below was run while the random message creator script (kafka_random_measurements.ipynb) running. In this way, it received the messages from the topic measurements.\n",
    "\n",
    "#### Note: The message receiving has been limited to a specific time duration (90 seconds), as done while creating the random measurements."
   ]
  },
  {
   "cell_type": "code",
   "execution_count": 13,
   "metadata": {},
   "outputs": [
    {
     "name": "stdout",
     "output_type": "stream",
     "text": [
      "Received: {'measurement_type': 'temperature', 'value': 60.96}\n",
      "Received: {'measurement_type': 'temperature', 'value': 36.95}\n",
      "Received: {'measurement_type': 'wind_speed', 'value': 57.84}\n",
      "Received: {'measurement_type': 'moisture', 'value': 28.21}\n",
      "Received: {'measurement_type': 'wind_speed', 'value': 99.95}\n",
      "Received: {'measurement_type': 'moisture', 'value': 55.56}\n",
      "Received: {'measurement_type': 'wind_speed', 'value': 4.85}\n",
      "Received: {'measurement_type': 'wind_speed', 'value': 2.71}\n",
      "Received: {'measurement_type': 'moisture', 'value': 47.39}\n",
      "Received: {'measurement_type': 'temperature', 'value': 75.43}\n",
      "Received: {'measurement_type': 'temperature', 'value': 64.34}\n",
      "Received: {'measurement_type': 'temperature', 'value': 5.4}\n",
      "Received: {'measurement_type': 'temperature', 'value': 36.37}\n",
      "Received: {'measurement_type': 'wind_speed', 'value': 50.78}\n",
      "Received: {'measurement_type': 'moisture', 'value': 16.74}\n",
      "Received: {'measurement_type': 'temperature', 'value': 12.4}\n",
      "Received: {'measurement_type': 'wind_speed', 'value': 87.5}\n",
      "Stopping consumer after the specified duration.\n",
      "Consumer stopped.\n"
     ]
    }
   ],
   "source": [
    "stop_flag = False\n",
    "\n",
    "def consume_messages(duration):\n",
    "    global stop_flag\n",
    "\n",
    "    bootstrap_servers = 'localhost:9092'\n",
    "    \n",
    "    topic = 'measurements'\n",
    "    \n",
    "    consumer = KafkaConsumer(topic,\n",
    "                             bootstrap_servers=bootstrap_servers,\n",
    "                             value_deserializer=lambda v: json.loads(v.decode('utf-8')))\n",
    "\n",
    "    def stop_consumer():\n",
    "        global stop_flag\n",
    "        time.sleep(duration)\n",
    "        stop_flag = True\n",
    "        print(\"Stopping consumer after the specified duration.\")\n",
    "\n",
    "    stop_thread = threading.Thread(target=stop_consumer)\n",
    "    stop_thread.start()\n",
    "\n",
    "    try:\n",
    "        for message in consumer:\n",
    "            if stop_flag:\n",
    "                break\n",
    "            measurement_data = message.value\n",
    "            print(f\"Received: {measurement_data}\")\n",
    "    except KeyboardInterrupt:\n",
    "        pass\n",
    "    finally:\n",
    "        consumer.close()\n",
    "        print(\"Consumer stopped.\")\n",
    "\n",
    "if __name__ == \"__main__\":\n",
    "    # the receiving is limited to a specific time duration (90 seconds).\n",
    "    duration = 90\n",
    "    consume_messages(duration)"
   ]
  },
  {
   "cell_type": "markdown",
   "metadata": {},
   "source": [
    "## Sent & Received Messages Display\n",
    "\n",
    "#### As it is displayed below, all the sent messages are received. However, the first sent message 'Sent: {'measurement_type': 'temperature', 'value': 56.16}' is not displayed because of a short delay in mili seconds."
   ]
  },
  {
   "cell_type": "markdown",
   "metadata": {},
   "source": [
    "Sent: {'measurement_type': 'temperature', 'value': 56.16}\n",
    "\n",
    "Sent: {'measurement_type': 'temperature', 'value': 60.96}\n",
    "\n",
    "Sent: {'measurement_type': 'temperature', 'value': 36.95}\n",
    "\n",
    "Sent: {'measurement_type': 'wind_speed', 'value': 57.84}\n",
    "\n",
    "Sent: {'measurement_type': 'moisture', 'value': 28.21}\n",
    "\n",
    "Sent: {'measurement_type': 'wind_speed', 'value': 99.95}\n",
    "\n",
    "Sent: {'measurement_type': 'moisture', 'value': 55.56}\n",
    "\n",
    "Sent: {'measurement_type': 'wind_speed', 'value': 4.85}\n",
    "\n",
    "Sent: {'measurement_type': 'wind_speed', 'value': 2.71}\n",
    "\n",
    "Sent: {'measurement_type': 'moisture', 'value': 47.39}\n",
    "\n",
    "Sent: {'measurement_type': 'temperature', 'value': 75.43}\n",
    "\n",
    "Sent: {'measurement_type': 'temperature', 'value': 64.34}\n",
    "\n",
    "Sent: {'measurement_type': 'temperature', 'value': 5.4}\n",
    "\n",
    "Sent: {'measurement_type': 'temperature', 'value': 36.37}\n",
    "\n",
    "Sent: {'measurement_type': 'wind_speed', 'value': 50.78}\n",
    "\n",
    "Sent: {'measurement_type': 'moisture', 'value': 16.74}\n",
    "\n",
    "Sent: {'measurement_type': 'temperature', 'value': 12.4}\n",
    "\n",
    "Sent: {'measurement_type': 'wind_speed', 'value': 87.5}\n",
    "\n",
    "-------------------------------------------------------------------------------------------------------------\n",
    "\n",
    "Received: {'measurement_type': 'temperature', 'value': 60.96}\n",
    "\n",
    "Received: {'measurement_type': 'temperature', 'value': 36.95}\n",
    "\n",
    "Received: {'measurement_type': 'wind_speed', 'value': 57.84}\n",
    "\n",
    "Received: {'measurement_type': 'moisture', 'value': 28.21}\n",
    "\n",
    "Received: {'measurement_type': 'wind_speed', 'value': 99.95}\n",
    "\n",
    "Received: {'measurement_type': 'moisture', 'value': 55.56}\n",
    "\n",
    "Received: {'measurement_type': 'wind_speed', 'value': 4.85}\n",
    "\n",
    "Received: {'measurement_type': 'wind_speed', 'value': 2.71}\n",
    "\n",
    "Received: {'measurement_type': 'moisture', 'value': 47.39}\n",
    "\n",
    "Received: {'measurement_type': 'temperature', 'value': 75.43}\n",
    "\n",
    "Received: {'measurement_type': 'temperature', 'value': 64.34}\n",
    "\n",
    "Received: {'measurement_type': 'temperature', 'value': 5.4}\n",
    "\n",
    "Received: {'measurement_type': 'temperature', 'value': 36.37}\n",
    "\n",
    "Received: {'measurement_type': 'wind_speed', 'value': 50.78}\n",
    "\n",
    "Received: {'measurement_type': 'moisture', 'value': 16.74}\n",
    "\n",
    "Received: {'measurement_type': 'temperature', 'value': 12.4}\n",
    "\n",
    "Received: {'measurement_type': 'wind_speed', 'value': 87.5}"
   ]
  }
 ],
 "metadata": {
  "kernelspec": {
   "display_name": "BDA24",
   "language": "python",
   "name": "python3"
  },
  "language_info": {
   "codemirror_mode": {
    "name": "ipython",
    "version": 3
   },
   "file_extension": ".py",
   "mimetype": "text/x-python",
   "name": "python",
   "nbconvert_exporter": "python",
   "pygments_lexer": "ipython3",
   "version": "3.11.5"
  }
 },
 "nbformat": 4,
 "nbformat_minor": 2
}
