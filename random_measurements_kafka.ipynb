{
 "cells": [
  {
   "cell_type": "markdown",
   "metadata": {},
   "source": [
    "# **Kafka Data Stream Processing with Python**\n",
    "## **Kafka Connection & Creating Random Measurements**"
   ]
  },
  {
   "cell_type": "markdown",
   "metadata": {},
   "source": [
    "## Kafka Python Library Installation"
   ]
  },
  {
   "cell_type": "code",
   "execution_count": 10,
   "metadata": {},
   "outputs": [],
   "source": [
    "#%pip install kafka-python"
   ]
  },
  {
   "cell_type": "markdown",
   "metadata": {},
   "source": [
    "## The Used Packages"
   ]
  },
  {
   "cell_type": "code",
   "execution_count": 11,
   "metadata": {},
   "outputs": [],
   "source": [
    "from kafka import KafkaProducer\n",
    "import json\n",
    "import time\n",
    "import random"
   ]
  },
  {
   "cell_type": "markdown",
   "metadata": {},
   "source": [
    "## The Message Broker Connection Test"
   ]
  },
  {
   "cell_type": "code",
   "execution_count": 12,
   "metadata": {},
   "outputs": [],
   "source": [
    "bootstrap_servers = 'localhost:9092'\n",
    "\n",
    "producer = KafkaProducer(bootstrap_servers=bootstrap_servers)\n",
    "\n",
    "topic = 'measurements'\n",
    "\n",
    "message = b\"Message broker connection test!\"\n",
    "\n",
    "producer.send(topic, message)\n",
    "\n",
    "producer.close()"
   ]
  },
  {
   "cell_type": "markdown",
   "metadata": {},
   "source": [
    "### The connection has been checked via the terminal as it is shown below.\n",
    "\n",
    "**The command written on the terminal:** C:\\kafka\\bin\\windows>kafka-console-consumer.bat --topic measurements --bootstrap-server localhost:9092 --from-beginning\n",
    "\n",
    "**The output on the terminal:**\n",
    "\n",
    "Message broker connection test!"
   ]
  },
  {
   "cell_type": "markdown",
   "metadata": {},
   "source": [
    "## Creating Random Measurements('temperature', 'moisture', 'wind_speed') Periodicaly\n",
    "#### Note: The sending is limited to a specific time duration (90 seconds)."
   ]
  },
  {
   "cell_type": "code",
   "execution_count": 13,
   "metadata": {},
   "outputs": [
    {
     "name": "stdout",
     "output_type": "stream",
     "text": [
      "Sent: {'measurement_type': 'temperature', 'value': 56.16}\n",
      "Sent: {'measurement_type': 'temperature', 'value': 60.96}\n",
      "Sent: {'measurement_type': 'temperature', 'value': 36.95}\n",
      "Sent: {'measurement_type': 'wind_speed', 'value': 57.84}\n",
      "Sent: {'measurement_type': 'moisture', 'value': 28.21}\n",
      "Sent: {'measurement_type': 'wind_speed', 'value': 99.95}\n",
      "Sent: {'measurement_type': 'moisture', 'value': 55.56}\n",
      "Sent: {'measurement_type': 'wind_speed', 'value': 4.85}\n",
      "Sent: {'measurement_type': 'wind_speed', 'value': 2.71}\n",
      "Sent: {'measurement_type': 'moisture', 'value': 47.39}\n",
      "Sent: {'measurement_type': 'temperature', 'value': 75.43}\n",
      "Sent: {'measurement_type': 'temperature', 'value': 64.34}\n",
      "Sent: {'measurement_type': 'temperature', 'value': 5.4}\n",
      "Sent: {'measurement_type': 'temperature', 'value': 36.37}\n",
      "Sent: {'measurement_type': 'wind_speed', 'value': 50.78}\n",
      "Sent: {'measurement_type': 'moisture', 'value': 16.74}\n",
      "Sent: {'measurement_type': 'temperature', 'value': 12.4}\n",
      "Sent: {'measurement_type': 'wind_speed', 'value': 87.5}\n"
     ]
    }
   ],
   "source": [
    "def measurement_generator():\n",
    "    measurement = {\n",
    "        'measurement_type': random.choice(['temperature', 'moisture', 'wind_speed']),\n",
    "        'value': round(random.uniform(0, 100), 2)\n",
    "    }\n",
    "    return measurement\n",
    "\n",
    "def measurement_sender(producer, topic, duration):\n",
    "    start_time = time.time()\n",
    "    while time.time() - start_time < duration:\n",
    "        measurement_data = measurement_generator()\n",
    "        \n",
    "        producer.send(topic, value=json.dumps(measurement_data).encode('utf-8'))\n",
    "        print(f\"Sent: {measurement_data}\")\n",
    "\n",
    "        time.sleep(5)\n",
    "\n",
    "def perform_measurements():\n",
    "    bootstrap_servers = 'localhost:9092'\n",
    "    \n",
    "    topic = 'measurements'\n",
    "    \n",
    "    producer = KafkaProducer(bootstrap_servers=bootstrap_servers)\n",
    "    \n",
    "    # the sending is limited to a specific time duration (90 seconds).\n",
    "    duration = 90\n",
    "    measurement_sender(producer, topic, duration)\n",
    "    \n",
    "    producer.close()\n",
    "\n",
    "if __name__ == \"__main__\":\n",
    "    perform_measurements()\n"
   ]
  },
  {
   "cell_type": "markdown",
   "metadata": {},
   "source": [
    "### Sending the Random Measurements ('temperature', 'moisture', 'wind_speed') messages has been also checked via the terminal as it is shown below.\n",
    "\n",
    "**The command written on the terminal:** C:\\kafka\\bin\\windows>kafka-console-consumer.bat --topic measurements --bootstrap-server localhost:9092 --from-beginning\n",
    "\n",
    "**The output on the terminal:**\n",
    "\n",
    "{\"measurement_type\": \"temperature\", \"value\": 56.16}\n",
    "\n",
    "{\"measurement_type\": \"temperature\", \"value\": 60.96}\n",
    "\n",
    "{\"measurement_type\": \"temperature\", \"value\": 36.95}\n",
    "\n",
    "{\"measurement_type\": \"wind_speed\", \"value\": 57.84}\n",
    "\n",
    "{\"measurement_type\": \"moisture\", \"value\": 28.21}\n",
    "\n",
    "{\"measurement_type\": \"wind_speed\", \"value\": 99.95}\n",
    "\n",
    "{\"measurement_type\": \"moisture\", \"value\": 55.56}\n",
    "\n",
    "{\"measurement_type\": \"wind_speed\", \"value\": 4.85}\n",
    "\n",
    "{\"measurement_type\": \"wind_speed\", \"value\": 2.71}\n",
    "\n",
    "{\"measurement_type\": \"moisture\", \"value\": 47.39}\n",
    "\n",
    "{\"measurement_type\": \"temperature\", \"value\": 75.43}\n",
    "\n",
    "{\"measurement_type\": \"temperature\", \"value\": 64.34}\n",
    "\n",
    "{\"measurement_type\": \"temperature\", \"value\": 5.4}\n",
    "\n",
    "{\"measurement_type\": \"temperature\", \"value\": 36.37}\n",
    "\n",
    "{\"measurement_type\": \"wind_speed\", \"value\": 50.78}\n",
    "\n",
    "{\"measurement_type\": \"moisture\", \"value\": 16.74}\n",
    "\n",
    "{\"measurement_type\": \"temperature\", \"value\": 12.4}\n",
    "\n",
    "{\"measurement_type\": \"wind_speed\", \"value\": 87.5}"
   ]
  }
 ],
 "metadata": {
  "kernelspec": {
   "display_name": "BDA24",
   "language": "python",
   "name": "python3"
  },
  "language_info": {
   "codemirror_mode": {
    "name": "ipython",
    "version": 3
   },
   "file_extension": ".py",
   "mimetype": "text/x-python",
   "name": "python",
   "nbconvert_exporter": "python",
   "pygments_lexer": "ipython3",
   "version": "3.11.5"
  }
 },
 "nbformat": 4,
 "nbformat_minor": 2
}
